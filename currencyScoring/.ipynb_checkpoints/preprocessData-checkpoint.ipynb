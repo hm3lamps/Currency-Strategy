{
 "cells": [
  {
   "cell_type": "code",
   "execution_count": 1,
   "metadata": {},
   "outputs": [
    {
     "ename": "TypeError",
     "evalue": "'countryName' is an invalid keyword argument for this function",
     "output_type": "error",
     "traceback": [
      "\u001b[1;31m---------------------------------------------------------------------------\u001b[0m",
      "\u001b[1;31mTypeError\u001b[0m                                 Traceback (most recent call last)",
      "\u001b[1;32m<ipython-input-1-f1387a7ec20d>\u001b[0m in \u001b[0;36m<module>\u001b[1;34m()\u001b[0m\n\u001b[0;32m      4\u001b[0m \u001b[0mdf1\u001b[0m \u001b[1;33m=\u001b[0m  \u001b[0mpd\u001b[0m\u001b[1;33m.\u001b[0m\u001b[0mread_csv\u001b[0m\u001b[1;33m(\u001b[0m\u001b[1;34m\"data/currentAccount.csv\"\u001b[0m\u001b[1;33m)\u001b[0m\u001b[1;33m\u001b[0m\u001b[0m\n\u001b[0;32m      5\u001b[0m \u001b[1;33m\u001b[0m\u001b[0m\n\u001b[1;32m----> 6\u001b[1;33m \u001b[0mprint\u001b[0m\u001b[1;33m(\u001b[0m\u001b[0mcountryName\u001b[0m \u001b[1;33m=\u001b[0m \u001b[0mdf1\u001b[0m\u001b[1;33m.\u001b[0m\u001b[0mLOCATION\u001b[0m\u001b[1;33m.\u001b[0m\u001b[0munique\u001b[0m\u001b[1;33m(\u001b[0m\u001b[1;33m)\u001b[0m\u001b[1;33m.\u001b[0m\u001b[0mtolist\u001b[0m\u001b[1;33m(\u001b[0m\u001b[1;33m)\u001b[0m\u001b[1;33m)\u001b[0m\u001b[1;33m\u001b[0m\u001b[0m\n\u001b[0m\u001b[0;32m      7\u001b[0m \u001b[0mdf1\u001b[0m \u001b[1;33m=\u001b[0m \u001b[0mdf1\u001b[0m\u001b[1;33m[\u001b[0m\u001b[1;33m[\u001b[0m\u001b[1;34m'LOCATION'\u001b[0m\u001b[1;33m,\u001b[0m \u001b[1;34m'TIME'\u001b[0m\u001b[1;33m,\u001b[0m \u001b[1;34m'Value'\u001b[0m\u001b[1;33m]\u001b[0m\u001b[1;33m]\u001b[0m\u001b[1;33m\u001b[0m\u001b[0m\n\u001b[0;32m      8\u001b[0m \u001b[0mdf1\u001b[0m\u001b[1;33m[\u001b[0m\u001b[1;34m'CA'\u001b[0m\u001b[1;33m]\u001b[0m \u001b[1;33m=\u001b[0m \u001b[0mdf1\u001b[0m\u001b[1;33m[\u001b[0m \u001b[1;34m'Value'\u001b[0m\u001b[1;33m]\u001b[0m\u001b[1;33m\u001b[0m\u001b[0m\n",
      "\u001b[1;31mTypeError\u001b[0m: 'countryName' is an invalid keyword argument for this function"
     ]
    }
   ],
   "source": [
    "import pandas as pd\n",
    "import numpy as np\n",
    "\n",
    "df1 =  pd.read_csv(\"data/currentAccount.csv\")\n",
    "\n",
    "print(df1.LOCATION.unique().tolist())\n",
    "df1 = df1[['LOCATION', 'TIME', 'Value']]\n",
    "df1['CA'] = df1[ 'Value']\n",
    "df1 = df1.drop(['Value'], axis = 1)\n",
    "print(df1.head())\n",
    "df2 =  pd.read_csv(\"data/realRate.csv\")\n",
    "df2 = df2[['LOCATION', 'TIME', 'Value']]\n",
    "df2['RealRate'] = df2[ 'Value']\n",
    "df2 = df2.drop(['Value'], axis = 1)\n",
    "print(df2.head())\n",
    "\n",
    "\n",
    "newDataFrame = pd.merge(df1, df2, on=['LOCATION','TIME'])\n",
    "\n",
    "print(newDataFrame.head())\n",
    "newDataFrame.to_csv('finalFrame.csv')\n",
    "\n",
    "            "
   ]
  },
  {
   "cell_type": "code",
   "execution_count": null,
   "metadata": {
    "collapsed": true
   },
   "outputs": [],
   "source": [
    "# countryName = df1.LOCATION.unique().tolist()\n",
    "# countryName.remove('USA')\n",
    "# countryName.remove('EA19')\n",
    "# countryName.remove('TUR')\n",
    "# countryName.remove('OECD')\n",
    "# print(countryName)\n",
    "\n",
    "# periodPre = '20'\n",
    "# periodPost= ['-Q1', '-Q2', '-Q3', '-Q4']\n",
    "# finalFrame = pd.DataFrame()\n",
    "# for i in range(2): #19\n",
    "#     for j in range(len(periodPost)):\n",
    "#         quarter = periodPre + \"%02d\" % (i,)\n",
    "#         quarter = quarter + periodPost[j]\n",
    "#         print(quarter)\n",
    "#         if df1.empty:\n",
    "#             print(\"empty dataframe\")\n",
    "#         else:\n",
    "#             smalldf1 = df1.loc[df1['TIME'] == quarter]\n",
    "#             smalldf2 = df2.loc[df2['TIME'] == quarter]\n",
    "#             #print(smalldf1['LOCATION'])\n",
    "#             #print(smalldf2.head())\n",
    "            "
   ]
  }
 ],
 "metadata": {
  "kernelspec": {
   "display_name": "Python 3",
   "language": "python",
   "name": "python3"
  },
  "language_info": {
   "codemirror_mode": {
    "name": "ipython",
    "version": 3
   },
   "file_extension": ".py",
   "mimetype": "text/x-python",
   "name": "python",
   "nbconvert_exporter": "python",
   "pygments_lexer": "ipython3",
   "version": "3.6.3"
  }
 },
 "nbformat": 4,
 "nbformat_minor": 2
}
