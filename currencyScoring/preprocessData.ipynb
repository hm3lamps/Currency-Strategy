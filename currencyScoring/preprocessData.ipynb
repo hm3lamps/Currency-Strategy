{
 "cells": [
  {
   "cell_type": "code",
   "execution_count": 69,
   "metadata": {},
   "outputs": [
    {
     "name": "stdout",
     "output_type": "stream",
     "text": [
      "  LOCATION     TIME        CA\n",
      "0      AUS  2001-Q1 -2.383320\n",
      "1      AUS  2001-Q2 -2.107348\n",
      "2      AUS  2001-Q3 -1.737449\n",
      "3      AUS  2001-Q4 -2.779747\n",
      "4      AUS  2002-Q1 -2.674527\n",
      "  LOCATION     TIME  RealRate\n",
      "0      CHE  2001-Q1  3.391110\n",
      "1      CHE  2001-Q2  3.205557\n",
      "2      CHE  2001-Q3  2.876667\n",
      "3      CHE  2001-Q4  1.977220\n",
      "4      CHE  2002-Q1  1.690000\n",
      "  LOCATION     TIME        CA  RealRate\n",
      "0      AUS  2001-Q1 -2.383320  5.546667\n",
      "1      AUS  2001-Q2 -2.107348  4.906667\n",
      "2      AUS  2001-Q3 -1.737449  4.846667\n",
      "3      AUS  2001-Q4 -2.779747  4.296667\n",
      "4      AUS  2002-Q1 -2.674527  4.343333\n"
     ]
    }
   ],
   "source": [
    "import pandas as pd\n",
    "import numpy as np\n",
    "\n",
    "df1 =  pd.read_csv(\"data/currentAccount.csv\")\n",
    "df1 = df1[['LOCATION', 'TIME', 'Value']]\n",
    "df1['CA'] = df1[ 'Value']\n",
    "df1 = df1.drop(['Value'], axis = 1)\n",
    "print(df1.head())\n",
    "df2 =  pd.read_csv(\"data/realRate.csv\")\n",
    "df2 = df2[['LOCATION', 'TIME', 'Value']]\n",
    "df2['RealRate'] = df2[ 'Value']\n",
    "df2 = df2.drop(['Value'], axis = 1)\n",
    "print(df2.head())\n",
    "\n",
    "\n",
    "newDataFrame = pd.merge(df1, df2, on=['LOCATION','TIME'])\n",
    "\n",
    "print(newDataFrame.head())\n",
    "newDataFrame.to_csv('finalFrame.csv')\n",
    "\n",
    "            "
   ]
  },
  {
   "cell_type": "code",
   "execution_count": null,
   "metadata": {},
   "outputs": [],
   "source": [
    "# countryName = df1.LOCATION.unique().tolist()\n",
    "# countryName.remove('USA')\n",
    "# countryName.remove('EA19')\n",
    "# countryName.remove('TUR')\n",
    "# countryName.remove('OECD')\n",
    "# print(countryName)\n",
    "\n",
    "# periodPre = '20'\n",
    "# periodPost= ['-Q1', '-Q2', '-Q3', '-Q4']\n",
    "# finalFrame = pd.DataFrame()\n",
    "# for i in range(2): #19\n",
    "#     for j in range(len(periodPost)):\n",
    "#         quarter = periodPre + \"%02d\" % (i,)\n",
    "#         quarter = quarter + periodPost[j]\n",
    "#         print(quarter)\n",
    "#         if df1.empty:\n",
    "#             print(\"empty dataframe\")\n",
    "#         else:\n",
    "#             smalldf1 = df1.loc[df1['TIME'] == quarter]\n",
    "#             smalldf2 = df2.loc[df2['TIME'] == quarter]\n",
    "#             #print(smalldf1['LOCATION'])\n",
    "#             #print(smalldf2.head())\n",
    "            "
   ]
  }
 ],
 "metadata": {
  "kernelspec": {
   "display_name": "Python 3",
   "language": "python",
   "name": "python3"
  },
  "language_info": {
   "codemirror_mode": {
    "name": "ipython",
    "version": 3
   },
   "file_extension": ".py",
   "mimetype": "text/x-python",
   "name": "python",
   "nbconvert_exporter": "python",
   "pygments_lexer": "ipython3",
   "version": "3.6.3"
  }
 },
 "nbformat": 4,
 "nbformat_minor": 2
}
