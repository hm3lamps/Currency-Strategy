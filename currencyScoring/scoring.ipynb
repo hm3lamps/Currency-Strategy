{
 "cells": [
  {
   "cell_type": "code",
   "execution_count": 21,
   "metadata": {},
   "outputs": [
    {
     "name": "stdout",
     "output_type": "stream",
     "text": [
      "2001-Q1\n",
      "     Unnamed: 0 LOCATION     TIME        CA  RealRate      Score\n",
      "0             0      AUS  2001-Q1 -2.383320  5.546667  25.306776\n",
      "69           69      AUT  2001-Q1 -2.116933  4.745033  21.024800\n",
      "199         199      CAN  2001-Q1  3.638782  5.137349  54.209048\n",
      "268         268      CZE  2001-Q1 -6.443645  5.220000  -9.789160\n",
      "390         390      FIN  2001-Q1  8.497014  4.745033  89.936376\n",
      "2001-Q2\n",
      "     Unnamed: 0 LOCATION     TIME        CA  RealRate      Score\n",
      "1             1      AUS  2001-Q2 -2.107348  4.906667  22.394552\n",
      "70           70      AUT  2001-Q2 -1.086746  4.590766  28.032160\n",
      "200         200      CAN  2001-Q2  2.460908  4.489311  39.601752\n",
      "269         269      CZE  2001-Q2 -6.124108  5.043334  -8.646192\n",
      "391         391      FIN  2001-Q2  7.568380  4.590766  81.273168\n",
      "2001-Q3\n",
      "     Unnamed: 0 LOCATION     TIME        CA  RealRate      Score\n",
      "2             2      AUS  2001-Q3 -1.737449  4.846667  24.873744\n",
      "71           71      AUT  2001-Q3  0.313788  4.267833  20.652965\n",
      "201         201      CAN  2001-Q3  1.351185  3.954969  26.449232\n",
      "270         270      CZE  2001-Q3 -4.648296  5.410000   6.093632\n",
      "392         392      FIN  2001-Q3  7.443474  4.267833  77.690456\n",
      "2001-Q4\n",
      "     Unnamed: 0 LOCATION     TIME        CA  RealRate      Score\n",
      "3             3      AUS  2001-Q4 -2.779747  4.296667  12.135360\n",
      "72           72      AUT  2001-Q4 -0.306192  3.443500  25.098466\n",
      "202         202      CAN  2001-Q4  1.049378  2.432831  11.857672\n",
      "271         271      CZE  2001-Q4 -2.297995  5.020000  21.776040\n",
      "393         393      FIN  2001-Q4  8.732861  3.443500  81.410888\n"
     ]
    }
   ],
   "source": [
    "import pandas as pd\n",
    "\n",
    "\n",
    "def currentAccountScore (row):\n",
    "    value = row['CA']\n",
    "    sign = value/abs(value)\n",
    "    score = (abs(value) - 1) * 4 * sign\n",
    "    return score * 2\n",
    "\n",
    "def realRateScore(row):\n",
    "    value = row['RealRate']\n",
    "    sign = value/abs(value)\n",
    "    score = (abs(value) - 1) * 4 * sign\n",
    "    return score * 2\n",
    "\n",
    "def createScoreQuarter(df):\n",
    "    df['Score'] = df.apply(currentAccountScore, axis=1)\n",
    "    df['Score'] = df['Score'] + df.apply(realRateScore, axis=1)\n",
    "    print(df.head())\n",
    "\n",
    "\n",
    "\n",
    "if __name__=='__main__':\n",
    "    df = pd.read_csv('finalFrame.csv')\n",
    "    periodPre = '20'\n",
    "    periodPost= ['-Q1', '-Q2', '-Q3', '-Q4']\n",
    "    finalFrame = pd.DataFrame()\n",
    "    for i in range(1): \n",
    "        for j in range(len(periodPost)):\n",
    "            quarter = periodPre + \"%02d\" % (i+1,)\n",
    "            quarter = quarter + periodPost[j]\n",
    "            print(quarter)\n",
    "            smalldf = df.loc[df['TIME'] == quarter].copy()\n",
    "            smalldf['Score'] = 0\n",
    "            createScoreQuarter(smalldf)\n"
   ]
  },
  {
   "cell_type": "code",
   "execution_count": 4,
   "metadata": {},
   "outputs": [
    {
     "name": "stdout",
     "output_type": "stream",
     "text": [
      "13.396215999999999\n"
     ]
    }
   ],
   "source": [
    "def currentAccountScore (value):\n",
    "    sign = value/abs(value)\n",
    "    score = (abs(value) - 1) * 4 * sign\n",
    "    return score * 2\n",
    "\n",
    "print( currentAccountScore (2.383320  ))\n",
    "    "
   ]
  },
  {
   "cell_type": "code",
   "execution_count": 5,
   "metadata": {},
   "outputs": [
    {
     "data": {
      "text/plain": [
       "1.3833199999999999"
      ]
     },
     "execution_count": 5,
     "metadata": {},
     "output_type": "execute_result"
    }
   ],
   "source": [
    "(2.383320  -1) * 100\n"
   ]
  }
 ],
 "metadata": {
  "kernelspec": {
   "display_name": "Python 3",
   "language": "python",
   "name": "python3"
  },
  "language_info": {
   "codemirror_mode": {
    "name": "ipython",
    "version": 3
   },
   "file_extension": ".py",
   "mimetype": "text/x-python",
   "name": "python",
   "nbconvert_exporter": "python",
   "pygments_lexer": "ipython3",
   "version": "3.6.3"
  }
 },
 "nbformat": 4,
 "nbformat_minor": 2
}
